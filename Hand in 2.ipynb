{
 "cells": [
  {
   "cell_type": "markdown",
   "metadata": {},
   "source": [
    "## Hand in 2\n",
    "1. Webscrape mobiltelefonernes navne og priser fra Komplett.dk\n",
    "https://www.komplett.dk/category/21064/mobil/mobiltelefoner\n",
    "\n",
    "2. Plot gennemsnitpriserne på Samsung og Iphone i et bar-graf eller linjediagram\n",
    "\n",
    "3. Webscrape mobiltelefonernes navne og priser fra Telia.dk\n",
    "https://www.telia.dk/privat/webshop/mobiler/?page=4\n",
    "\n",
    "3.a Sammenlign mobilernes priser fra begge butikker og plot dem."
   ]
  },
  {
   "cell_type": "markdown",
   "metadata": {
    "scrolled": true
   },
   "source": [
    "import bs4\n",
    "import requests\n",
    "\n",
    "r = requests.get('https://www.komplett.dk/category/21064/mobil/mobiltelefoner?nlevel=10444%C2%A721064&hits=1000')\n",
    "with open('Komplet2.html', 'w') as html:\n",
    "    html.write(r.text)\n",
    "r.raise_for_status()\n",
    "soup = bs4.BeautifulSoup(r.text, 'html.parser')\n",
    "\n",
    "print(soup.prettify()[:1500])"
   ]
  },
  {
   "cell_type": "code",
   "execution_count": 30,
   "metadata": {
    "scrolled": true
   },
   "outputs": [
    {
     "name": "stdout",
     "output_type": "stream",
     "text": [
      "{'Samsung Galaxy XCover 5 64 GB Enterprise Edition': '2.199,-', 'iPhone 12 64GB (lilla)': '5.974,-', 'Samsung Galaxy A52s 5G 128GB (white)': '3.399,-', 'Nokia 105 (sort)': '159,-', 'iPhone 12 mini 128GB (blå)': '5.644,-', 'iPhone 12 mini 64GB (hvid)': '5.196,-', 'Motorola Moto G100 8+128GB (magic blue)': '3.699,-', 'iPhone 13 Pro 128GB (gold)': '9.055,-', 'iPhone 13 mini 256GB (pink)': '7.099,-', 'Samsung Galaxy A52s 5G 128GB (violet)': '3.399,-', 'iPhone SE (2022) 128GB (PRODUCT)RED': '4.499,-', 'iPhone 13 mini 128GB (blue)': '5.999,-', 'iPhone 12 mini 128GB (grøn)': '5.644,-', 'iPhone 12 mini 64GB (sort)': '5.196,-', 'OnePlus 9 Pro 12+256GB Pine Green': '7.999,-', 'Sony Xperia 10 III 6+128 GB (hvid)': '3.496,-', 'OnePlus 9 Pro 8+128GB (morning mist)': '6.999,-', 'Samsung Galaxy Xcover Pro 64 GB (sort)': '3.473,-', 'Samsung Galaxy A52s 5G 128GB (black)': '3.399,-', 'iPhone 12 256GB (hvid)': '7.599,-', 'Cat S42H+ 32GB (sort)': '1.999,-', 'Samsung Galaxy S20 FE 5G 128GB (grøn)': '5.199,-', 'Samsung Galaxy S21 5G 128GB (phantom white)': '5.999,-', 'Sony Xperia 1 III 12+256GB (sort)': '9.999,-', 'iPhone 12 64GB (blå)': '5.974,-', 'iPhone 12 128GB (sort)': '6.199,-', 'OnePlus 9 8+128GB (arctic sky)': '5.448,-', 'OnePlus Nord 2 5G  256GB+12GB (gray sierra)': '3.899,-', 'Galaxy S20 FE 4G 128GB (navy)': '4.399,-', 'Samsung Galaxy S21 5G 128GB (phantom gray)': '5.999,-', 'Sony Xperia 10 III 6+128 GB Sort': '3.496,-', 'Galaxy S21 FE 5G 128GB (white)': '5.999,-', 'Galaxy S21 FE 5G 256GB (white)': '6.499,-', 'iPhone 12 mini 256GB (hvid)': '6.899,-', 'iPhone 12 256GB (grøn)': '7.599,-', 'iPhone 12 mini 64GB (PRODUCT)RED': '5.196,-', 'iPhone 12 128GB (blå)': '6.199,-', 'iPhone 12 64GB (PRODUCT)RED': '5.974,-', 'iPhone 12 mini 128GB (sort)': '5.644,-', 'iPhone 12 64GB (grøn)': '5.974,-', 'iPhone 12 256GB (blå)': '7.599,-', 'iPhone 12 mini 256GB (blå)': '6.899,-', 'iPhone 12 128GB (PRODUCT)RED': '6.199,-', 'iPhone 12 mini 128GB (PRODUCT)RED': '5.644,-', 'iPhone 12 64GB (hvid)': '5.974,-', 'iPhone 12 mini 64GB (grøn)': '5.196,-', 'iPhone 12 128GB (grøn)': '6.199,-', 'iPhone 12 128GB (hvid)': '6.199,-', 'iPhone 12 256GB (PRODUCT)RED': '7.599,-', 'iPhone 12 mini 128GB (hvid)': '5.644,-', 'iPhone 12 64GB (sort)': '5.974,-', 'iPhone 12 mini 64GB (blå)': '5.196,-', 'iPhone 11 64GB (grøn)': '4.444,-', 'iPhone 11 128GB W(hvid)': '4.955,-', 'iPhone 11 128GB (grøn)': '4.955,-', 'iPhone 11 64GB (lilla)': '4.666,-', 'iPhone 11 64GB (PRODUCT)RED': '4.666,-', 'Samsung Galaxy S21 Plus 5G 128GB (phantom black)': '6.999,-', 'Galaxy S20 FE 4G 128GB (lavender)': '4.399,-', 'Galaxy S20 FE 4G 128GB (rød)': '4.399,-', 'Galaxy S20 FE 4G 128GB (grøn)': '4.399,-', 'iPhone 12 mini 128GB (lilla)': '5.644,-', 'iPhone 12 128GB (lilla)': '6.199,-', 'iPhone 12 mini 64GB (lilla)': '5.196,-', 'Motorola Moto G50 4+64GB (aqua)': '1.899,-', 'Motorola Moto G100 8+128GB (magic white)': '3.699,-', 'Cat B40 4G (sort)': '589,-', 'Galaxy A22 5G 4+64GB (grå)': '1.699,-', 'Galaxy A22 5G 4+64GB (hvid)': '1.699,-', 'Sony Xperia 1 III 12+256GB (lilla)': '9.999,-', 'Samsung Galaxy Z Fold3 5G 256GB (phantom silver)': '14.199,-', 'Nokia X10 5G 64GB (grønn)': '2.299,-', 'Asus Zenfone 8 8+128GB 5G (sort)': '5.199,-', 'Sony Xperia 5 III 8+128GB (grøn)': '6.999,-', 'Nokia G20 4G 64GB (blå)': '1.599,-', 'Nokia XR20 4G 64GB (grå)': '3.899,-', 'iPhone\\xa013\\xa0Pro\\xa0Max 256GB (gold)': '10.599,-', 'iPhone 13 256GB (midnight)': '7.955,-', 'iPhone 13 256GB (blue)': '7.955,-', 'iPhone 13 mini 256GB (midnight)': '7.099,-', 'iPhone 13 128GB (PRODUCT)RED': '7.055,-', 'iPhone 13 256GB (PRODUCT)RED': '7.955,-', 'iPhone 13 128GB (pink)': '7.055,-', 'iPhone 13 Pro 1TB (graphite)': '13.499,-', 'iPhone\\xa013\\xa0Pro\\xa0Max 1TB (silver)': '14.199,-', 'iPhone 13 256GB (pink)': '7.955,-', 'iPhone 13\\xa0Pro\\xa0Max 512GB (graphite)': '12.399,-', 'iPhone\\xa013\\xa0Pro\\xa0Max 128GB (gold)': '9.699,-', 'iPhone\\xa013\\xa0Pro\\xa0Max 1TB (graphite)': '14.199,-', 'iPhone 13 512GB (starlight)': '8.989,-', 'iPhone 13 128GB (midnight)': '7.055,-', 'iPhone 13 Pro 512GB (gold)': '11.689,-', 'Sony Xperia 10 III 6+128 GB (blå)': '3.496,-', 'Samsung Galaxy A52s 5G 128GB (mint)': '3.399,-', 'Sony Xperia PRO-I (sort)': '13.499,-', 'iPhone 13 256GB (grøn)': '7.955,-', 'iPhone 13 Pro 512GB (grangrøn)': '11.755,-', 'iPhone 13 Pro Max 512GB (grangrøn)': '12.455,-', 'iPhone SE (2022) 128GB (midnat)': '4.499,-', 'iPhone SE (2022) 128GB (stjerneskær)': '4.499,-', 'iPhone SE (2022) 64GB (PRODUCT)RED': '3.999,-', 'Galaxy A53 5G 128GB (awesome white)': '3.399,-', 'Galaxy A53 5G 128GB (awesome blue)': '3.399,-', 'Galaxy A53 5G 256GB (awesome black)': '3.799,-', 'Galaxy A53 5G 256GB (awesome blue)': '3.799,-', 'Galaxy A53 5G 128GB (awesome black)': '3.399,-', 'Galaxy A13 64GB (light blue)': '1.499,-', 'OnePlus 9 Pro 8+128GB (pine green)': '6.999,-', 'ROG Phone 5s 512GB (phantom black)': '8.799,-', 'iPhone 13 256GB (starlight)': '7.955,-', 'Motorola Moto G50 4+64GB (super gray)': '1.899,-', 'iPhone 13 128GB Blue': '7.055,-', 'iPhone 13 Pro 128GB (grangrøn)': '9.055,-', 'OnePlus Nord 2 5G 128GB+8GB Gray Sierra': '3.299,-', 'iPhone 13 Pro 128GB (sierra blue)': '9.055,-', 'Samsung Galaxy S22 Ultra 256GB (hvid)': '10.699,-', 'OnePlus Nord 2 5G 128GB+8GB Blue Hase': '3.299,-', 'Samsung Galaxy S22 Ultra 128GB (sort)': '9.899,-', 'iPhone 11 64GB (gul)': '4.666,-', 'Samsung Galaxy S22 Ultra 256GB (sort)': '10.699,-', 'Samsung Galaxy S22 Plus 256GB (sort)': '8.699,-', 'iPhone 11 128GB (gul)': '4.955,-', 'iPhone 11 64GB (hvid)': '4.666,-', 'iPhone 11 128GB (PRODUCT)RED': '4.955,-', 'iPhone 11 128GB (lilla)': '4.955,-', 'iPhone 11 128GB (sort)': '4.955,-', 'iPhone 12 mini 256GB (lilla)': '6.999,-', 'OnePlus 10 Pro 5G 8+128GB (volcanic black)': '7.299,-', 'Cat S62 Pro 128GB (sort)': '5.290,-', 'Asus Zenfone 8 8+256GB (sort)': '5.699,-', 'Nokia G10 3G 32GB (blå)': '1.099,-', 'Samsung Galaxy Z Flip3 5G 128GB (phantom black)': '8.199,-', 'Samsung Galaxy Z Flip3 5G 256GB (lavender)': '8.699,-', 'Samsung Galaxy S22 Ultra 512GB (hvid)': '11.499,-', 'Samsung Galaxy S22 Ultra 512GB (sort)': '11.499,-', 'Samsung Galaxy S22 Ultra 128GB (hvid)': '9.899,-', 'Samsung Galaxy S22 Ultra 512GB (burgundy)': '11.499,-', 'Samsung Galaxy S22 Plus 128GB (grøn)': '8.299,-', 'Rainbow B0 (128GB) greenSamsung Galaxy S22 Ultra 128GB (grøn)': '9.899,-', 'Samsung Galaxy S22 Plus 128GB (sort)': '8.299,-', 'Samsung Galaxy S22 128GB (sort)': '6.699,-', 'Samsung Galaxy S22 256GB (lyserød)': '7.099,-', 'Samsung Galaxy S22 Ultra 512GB (grøn)': '11.499,-', 'Samsung Galaxy S22 Ultra 128GB (burgundy)': '9.899,-', 'Samsung Galaxy S22 128GB (hvid)': '6.699,-', 'Samsung Galaxy S22 Plus 128GB (hvid)': '8.299,-', 'Samsung Galaxy S22 Plus 128GB (lyserød)': '8.299,-', 'Samsung Galaxy S22 Plus 256GB (lyserød)': '8.699,-', 'Samsung Galaxy S22 128GB (grøn)': '6.699,-', 'Samsung Galaxy S22 Plus 256GB (grøn)': '8.699,-', 'Samsung Galaxy S22 256GB (hvid)': '7.099,-', 'Samsung Galaxy S22 128GB (lyserød)': '6.699,-', 'Samsung Galaxy S22 256GB (sort)': '7.099,-', 'Samsung Galaxy S22 Ultra 256GB (grøn)': '10.699,-', 'Samsung Galaxy S22 Plus 256GB (hvid)': '8.699,-', 'Samsung Galaxy S22 Ultra 256GB (burgundy)': '10.699,-', 'Galaxy A33 5G 128GB (awesome black)': '2.799,-', 'Galaxy A53 5G 256GB (awesome white)': '3.799,-', 'Galaxy A13 64GB (black)': '1.499,-', 'Galaxy A53 5G 128GB (awesome peach)': '3.399,-', 'Galaxy A03 64GB (black)': '1.249,-', 'Galaxy A33 5G 128GB (awesome blue)': '2.799,-', 'Galaxy A53 5G 256GB (awesome peach)': '3.799,-', 'Galaxy A33 5G 128GB (awesome peach)': '2.799,-', 'Galaxy A03 64GB (blue)': '1.249,-', 'Galaxy A33 5G 128GB (awesome white)': '2.799,-', 'Galaxy A03 64GB (red)': '1.249,-', 'Galaxy A13 64GB (white)': '1.499,-', 'OnePlus 10 Pro 5G 12+256GB (volcanic black)': '7.999,-', 'OnePlus 10 Pro 5G 12+256GB (emerald forest)': '7.999,-', 'Samsung Galaxy S22 256GB (grøn)': '7.099,-', 'iPhone SE (2022) 64GB (midnat)': '3.999,-', 'iPhone 13\\xa0Pro\\xa0Max 128GB (silver)': '9.699,-', 'iPhone 13 Pro 256GB (graphite)': '9.955,-', 'iPhone 13 Pro 256GB (sierra blue)': '9.955,-', 'iPhone\\xa013\\xa0Pro\\xa0Max 128GB (sierra blue)': '9.699,-', 'iPhone 13 Pro 128GB (graphite)': '9.055,-', 'iPhone 13\\xa0Pro\\xa0Max 128GB (graphite)': '9.699,-', 'Motorola Moto Edge 20 8+128GB Frosted White': '3.699,-', 'Motorola Moto Edge 20 Pro 12+256GB (blue vegan leather)': '4.999,-', 'iPhone 12 256GB (sort)': '7.599,-', 'iPhone 13\\xa0Pro\\xa0Max 256GB (graphite)': '10.599,-', 'iPhone 12 mini 256GB (grøn)': '6.899,-', 'iPhone 12 mini 256GB (sort)': '6.899,-', 'iPhone 12 mini 256GB (PRODUCT)RED': '6.899,-', 'Nokia 8000 4G (sort)': '699,-', 'iPhone 13 mini 256GB (starlight)': '7.099,-', 'iPhone 13 mini 128GB (starlight)': '6.198,-', 'iPhone 13\\xa0Pro\\xa0Max 512GB (sierra blue)': '12.399,-', 'iPhone 13 512GB (midnight)': '8.989,-', 'iPhone 13 mini 512GB Midnight': '8.889,-', 'iPhone\\xa013\\xa0Pro\\xa0Max 256GB (silver)': '10.599,-', 'iPhone\\xa013\\xa0Pro\\xa0Max 512GB Gold': '12.399,-', 'iPhone 13 mini 128GB (midnight)': '6.198,-', 'iPhone\\xa013\\xa0Pro\\xa0Max 1TB (sierra blue)': '14.199,-', 'iPhone 13 512GB Blue': '8.989,-', 'iPhone 13 Pro 1TB (sierra blue)': '13.499,-', 'iPhone 13 Pro 1TB (gold)': '13.499,-', 'iPhone 13 Pro 512GB (silver)': '11.689,-', 'iPhone 13 mini 256GB (blue)': '7.099,-', 'iPhone 13 mini 512GB (blue)': '8.889,-', 'iPhone 13 Pro 1TB (silver)': '13.499,-', 'iPhone\\xa013\\xa0Pro\\xa0Max 1TB (gold)': '14.199,-', 'iPhone 13 512GB (PRODUCT)RED': '8.989,-', 'iPhone\\xa013\\xa0Pro\\xa0Max 512GB (silver)': '12.399,-', 'iPhone 13 Pro 256GB (gold)': '9.955,-', 'iPhone 13 mini 256GB (PRODUCT)RED': '7.099,-', 'iPhone 13 mini 512GB (PRODUCT)RED': '8.889,-', 'iPhone 13 mini 128GB (PRODUCT)RED': '6.198,-', 'iPhone 13 512GB Pink': '8.989,-', 'iPhone 13 128GB (starlight)': '7.055,-', 'iPhone 13 Pro 512GB (graphite)': '11.689,-', 'iPhone 13 mini 512GB (pink)': '8.889,-', 'iPhone 13 Pro 512GB (sierra blue)': '11.689,-', 'iPhone 13 mini 128GB (pink)': '6.198,-', 'iPhone 13 Pro 128GB (silver)': '9.055,-', 'iPhone\\xa013\\xa0Pro\\xa0Max 256GB (sierra blue)': '10.599,-', 'iPhone 13 Pro 256GB (silver)': '9.955,-', 'iPhone 13 mini 512GB Starlight': '8.889,-', 'iPhone 13 512GB (grøn)': '9.755,-', 'iPhone 13 128GB (grøn)': '7.055,-', 'iPhone 13 mini 512GB (grøn)': '8.955,-', 'iPhone 13 mini 256GB (grøn)': '7.155,-', 'iPhone 13 mini 128GB (grøn)': '6.255,-', 'iPhone 13 Pro 1TB (grangrøn)': '13.555,-', 'iPhone 13 Pro 256GB (grangrøn)': '9.955,-', 'iPhone 13 Pro Max 1TB (grangrøn)': '14.255,-', 'iPhone SE (2022) 256GB (stjerneskær)': '5.399,-', 'iPhone 13 Pro Max 128GB (grangrøn)': '9.755,-', 'iPhone SE (2022) 64GB (stjerneskær)': '3.999,-', 'iPhone SE (2022) 256GB (PRODUCT)RED': '5.399,-', 'iPhone SE (2022) 256GB (midnat)': '5.399,-', 'iPhone 13 Pro Max 256GB (grangrøn)': '10.655,-'}\n",
      "this is the first kvp form the dict ('Samsung Galaxy XCover 5 64 GB Enterprise Edition', '2.199,-')\n"
     ]
    }
   ],
   "source": [
    "import bs4\n",
    "\n",
    "with open('Komplet.html') as f:\n",
    "    example_html = f.read()\n",
    "    \n",
    "soup = bs4.BeautifulSoup(example_html, 'html.parser')\n",
    "# soup.find_all?\n",
    "h2_elem = soup.findAll('h2')\n",
    "price = soup.findAll('span', {'class': 'product-price-now'})\n",
    "#print(str(h2_elem))\n",
    "#print(str(price))\n",
    "#print(len(h2_elem))\n",
    "#print(len(price))\n",
    "\n",
    "res = {h2_elem[i].text: price[i].text for i in range(len(h2_elem))}\n",
    "print(str(res))\n",
    "\n",
    "find_kv = list(res.items())[0]\n",
    "print(\"this is the first kvp form the dict\", find_kv)"
   ]
  },
  {
   "cell_type": "code",
   "execution_count": 4,
   "metadata": {
    "scrolled": true
   },
   "outputs": [
    {
     "name": "stdout",
     "output_type": "stream",
     "text": [
      "Asus Zenfone 8 8+128GB 5G (sort)   price: 5.199,-\n",
      "Asus Zenfone 8 8+256GB (sort)   price: 5.699,-\n",
      "Cat B40 4G (sort)   price: 589,-\n",
      "Cat S42H+ 32GB (sort)   price: 1.999,-\n",
      "Cat S62 Pro 128GB (sort)   price: 5.290,-\n",
      "Galaxy A03 64GB (black)   price: 1.249,-\n",
      "Galaxy A03 64GB (blue)   price: 1.249,-\n",
      "Galaxy A03 64GB (red)   price: 1.249,-\n",
      "Galaxy A13 64GB (black)   price: 1.499,-\n",
      "Galaxy A13 64GB (light blue)   price: 1.499,-\n",
      "Galaxy A13 64GB (white)   price: 1.499,-\n",
      "Galaxy A22 5G 4+64GB (grå)   price: 1.699,-\n",
      "Galaxy A22 5G 4+64GB (hvid)   price: 1.699,-\n",
      "Galaxy A33 5G 128GB (awesome black)   price: 2.799,-\n",
      "Galaxy A33 5G 128GB (awesome blue)   price: 2.799,-\n",
      "Galaxy A33 5G 128GB (awesome peach)   price: 2.799,-\n",
      "Galaxy A33 5G 128GB (awesome white)   price: 2.799,-\n",
      "Galaxy A53 5G 128GB (awesome black)   price: 3.399,-\n",
      "Galaxy A53 5G 128GB (awesome blue)   price: 3.399,-\n",
      "Galaxy A53 5G 128GB (awesome peach)   price: 3.399,-\n",
      "Galaxy A53 5G 128GB (awesome white)   price: 3.399,-\n",
      "Galaxy A53 5G 256GB (awesome black)   price: 3.799,-\n",
      "Galaxy A53 5G 256GB (awesome blue)   price: 3.799,-\n",
      "Galaxy A53 5G 256GB (awesome peach)   price: 3.799,-\n",
      "Galaxy A53 5G 256GB (awesome white)   price: 3.799,-\n",
      "Galaxy S20 FE 4G 128GB (grøn)   price: 4.399,-\n",
      "Galaxy S20 FE 4G 128GB (lavender)   price: 4.399,-\n",
      "Galaxy S20 FE 4G 128GB (navy)   price: 4.399,-\n",
      "Galaxy S20 FE 4G 128GB (rød)   price: 4.399,-\n",
      "Galaxy S21 FE 5G 128GB (white)   price: 5.999,-\n",
      "Galaxy S21 FE 5G 256GB (white)   price: 6.499,-\n",
      "Motorola Moto Edge 20 8+128GB Frosted White   price: 3.699,-\n",
      "Motorola Moto Edge 20 Pro 12+256GB (blue vegan leather)   price: 4.999,-\n",
      "Motorola Moto G100 8+128GB (magic blue)   price: 3.699,-\n",
      "Motorola Moto G100 8+128GB (magic white)   price: 3.699,-\n",
      "Motorola Moto G50 4+64GB (aqua)   price: 1.899,-\n",
      "Motorola Moto G50 4+64GB (super gray)   price: 1.899,-\n",
      "Nokia 105 (sort)   price: 159,-\n",
      "Nokia 8000 4G (sort)   price: 699,-\n",
      "Nokia G10 3G 32GB (blå)   price: 1.099,-\n",
      "Nokia G20 4G 64GB (blå)   price: 1.599,-\n",
      "Nokia X10 5G 64GB (grønn)   price: 2.299,-\n",
      "Nokia XR20 4G 64GB (grå)   price: 3.899,-\n",
      "OnePlus 10 Pro 5G 12+256GB (emerald forest)   price: 7.999,-\n",
      "OnePlus 10 Pro 5G 12+256GB (volcanic black)   price: 7.999,-\n",
      "OnePlus 10 Pro 5G 8+128GB (volcanic black)   price: 7.299,-\n",
      "OnePlus 9 8+128GB (arctic sky)   price: 5.448,-\n",
      "OnePlus 9 Pro 12+256GB Pine Green   price: 7.999,-\n",
      "OnePlus 9 Pro 8+128GB (morning mist)   price: 6.999,-\n",
      "OnePlus 9 Pro 8+128GB (pine green)   price: 6.999,-\n",
      "OnePlus Nord 2 5G  256GB+12GB (gray sierra)   price: 3.899,-\n",
      "OnePlus Nord 2 5G 128GB+8GB Blue Hase   price: 3.299,-\n",
      "OnePlus Nord 2 5G 128GB+8GB Gray Sierra   price: 3.299,-\n",
      "ROG Phone 5s 512GB (phantom black)   price: 8.799,-\n",
      "Rainbow B0 (128GB) greenSamsung Galaxy S22 Ultra 128GB (grøn)   price: 9.899,-\n",
      "Samsung Galaxy A52s 5G 128GB (black)   price: 3.399,-\n",
      "Samsung Galaxy A52s 5G 128GB (mint)   price: 3.399,-\n",
      "Samsung Galaxy A52s 5G 128GB (violet)   price: 3.399,-\n",
      "Samsung Galaxy A52s 5G 128GB (white)   price: 3.399,-\n",
      "Samsung Galaxy S20 FE 5G 128GB (grøn)   price: 5.199,-\n",
      "Samsung Galaxy S21 5G 128GB (phantom gray)   price: 5.999,-\n",
      "Samsung Galaxy S21 5G 128GB (phantom white)   price: 5.999,-\n",
      "Samsung Galaxy S21 Plus 5G 128GB (phantom black)   price: 6.999,-\n",
      "Samsung Galaxy S22 128GB (grøn)   price: 6.699,-\n",
      "Samsung Galaxy S22 128GB (hvid)   price: 6.699,-\n",
      "Samsung Galaxy S22 128GB (lyserød)   price: 6.699,-\n",
      "Samsung Galaxy S22 128GB (sort)   price: 6.699,-\n",
      "Samsung Galaxy S22 256GB (grøn)   price: 7.099,-\n",
      "Samsung Galaxy S22 256GB (hvid)   price: 7.099,-\n",
      "Samsung Galaxy S22 256GB (lyserød)   price: 7.099,-\n",
      "Samsung Galaxy S22 256GB (sort)   price: 7.099,-\n",
      "Samsung Galaxy S22 Plus 128GB (grøn)   price: 8.299,-\n",
      "Samsung Galaxy S22 Plus 128GB (hvid)   price: 8.299,-\n",
      "Samsung Galaxy S22 Plus 128GB (lyserød)   price: 8.299,-\n",
      "Samsung Galaxy S22 Plus 128GB (sort)   price: 8.299,-\n",
      "Samsung Galaxy S22 Plus 256GB (grøn)   price: 8.699,-\n",
      "Samsung Galaxy S22 Plus 256GB (hvid)   price: 8.699,-\n",
      "Samsung Galaxy S22 Plus 256GB (lyserød)   price: 8.699,-\n",
      "Samsung Galaxy S22 Plus 256GB (sort)   price: 8.699,-\n",
      "Samsung Galaxy S22 Ultra 128GB (burgundy)   price: 9.899,-\n",
      "Samsung Galaxy S22 Ultra 128GB (hvid)   price: 9.899,-\n",
      "Samsung Galaxy S22 Ultra 128GB (sort)   price: 9.899,-\n",
      "Samsung Galaxy S22 Ultra 256GB (burgundy)   price: 10.699,-\n",
      "Samsung Galaxy S22 Ultra 256GB (grøn)   price: 10.699,-\n",
      "Samsung Galaxy S22 Ultra 256GB (hvid)   price: 10.699,-\n",
      "Samsung Galaxy S22 Ultra 256GB (sort)   price: 10.699,-\n",
      "Samsung Galaxy S22 Ultra 512GB (burgundy)   price: 11.499,-\n",
      "Samsung Galaxy S22 Ultra 512GB (grøn)   price: 11.499,-\n",
      "Samsung Galaxy S22 Ultra 512GB (hvid)   price: 11.499,-\n",
      "Samsung Galaxy S22 Ultra 512GB (sort)   price: 11.499,-\n",
      "Samsung Galaxy XCover 5 64 GB Enterprise Edition   price: 2.199,-\n",
      "Samsung Galaxy Xcover Pro 64 GB (sort)   price: 3.473,-\n",
      "Samsung Galaxy Z Flip3 5G 128GB (phantom black)   price: 8.199,-\n",
      "Samsung Galaxy Z Flip3 5G 256GB (lavender)   price: 8.699,-\n",
      "Samsung Galaxy Z Fold3 5G 256GB (phantom silver)   price: 14.199,-\n",
      "Sony Xperia 1 III 12+256GB (lilla)   price: 9.999,-\n",
      "Sony Xperia 1 III 12+256GB (sort)   price: 9.999,-\n",
      "Sony Xperia 10 III 6+128 GB (blå)   price: 3.496,-\n",
      "Sony Xperia 10 III 6+128 GB (hvid)   price: 3.496,-\n",
      "Sony Xperia 10 III 6+128 GB Sort   price: 3.496,-\n",
      "Sony Xperia 5 III 8+128GB (grøn)   price: 6.999,-\n",
      "Sony Xperia PRO-I (sort)   price: 13.499,-\n",
      "iPhone 11 128GB (PRODUCT)RED   price: 4.955,-\n",
      "iPhone 11 128GB (grøn)   price: 4.955,-\n",
      "iPhone 11 128GB (gul)   price: 4.955,-\n",
      "iPhone 11 128GB (lilla)   price: 4.955,-\n",
      "iPhone 11 128GB (sort)   price: 4.955,-\n",
      "iPhone 11 128GB W(hvid)   price: 4.955,-\n",
      "iPhone 11 64GB (PRODUCT)RED   price: 4.666,-\n",
      "iPhone 11 64GB (grøn)   price: 4.444,-\n",
      "iPhone 11 64GB (gul)   price: 4.666,-\n",
      "iPhone 11 64GB (hvid)   price: 4.666,-\n",
      "iPhone 11 64GB (lilla)   price: 4.666,-\n",
      "iPhone 12 128GB (PRODUCT)RED   price: 6.199,-\n",
      "iPhone 12 128GB (blå)   price: 6.199,-\n",
      "iPhone 12 128GB (grøn)   price: 6.199,-\n",
      "iPhone 12 128GB (hvid)   price: 6.199,-\n",
      "iPhone 12 128GB (lilla)   price: 6.199,-\n",
      "iPhone 12 128GB (sort)   price: 6.199,-\n",
      "iPhone 12 256GB (PRODUCT)RED   price: 7.599,-\n",
      "iPhone 12 256GB (blå)   price: 7.599,-\n",
      "iPhone 12 256GB (grøn)   price: 7.599,-\n",
      "iPhone 12 256GB (hvid)   price: 7.599,-\n",
      "iPhone 12 256GB (sort)   price: 7.599,-\n",
      "iPhone 12 64GB (PRODUCT)RED   price: 5.974,-\n",
      "iPhone 12 64GB (blå)   price: 5.974,-\n",
      "iPhone 12 64GB (grøn)   price: 5.974,-\n",
      "iPhone 12 64GB (hvid)   price: 5.974,-\n",
      "iPhone 12 64GB (lilla)   price: 5.974,-\n",
      "iPhone 12 64GB (sort)   price: 5.974,-\n",
      "iPhone 12 mini 128GB (PRODUCT)RED   price: 5.644,-\n",
      "iPhone 12 mini 128GB (blå)   price: 5.644,-\n",
      "iPhone 12 mini 128GB (grøn)   price: 5.644,-\n",
      "iPhone 12 mini 128GB (hvid)   price: 5.644,-\n",
      "iPhone 12 mini 128GB (lilla)   price: 5.644,-\n",
      "iPhone 12 mini 128GB (sort)   price: 5.644,-\n",
      "iPhone 12 mini 256GB (PRODUCT)RED   price: 6.899,-\n",
      "iPhone 12 mini 256GB (blå)   price: 6.899,-\n",
      "iPhone 12 mini 256GB (grøn)   price: 6.899,-\n",
      "iPhone 12 mini 256GB (hvid)   price: 6.899,-\n",
      "iPhone 12 mini 256GB (lilla)   price: 6.999,-\n",
      "iPhone 12 mini 256GB (sort)   price: 6.899,-\n",
      "iPhone 12 mini 64GB (PRODUCT)RED   price: 5.196,-\n",
      "iPhone 12 mini 64GB (blå)   price: 5.196,-\n",
      "iPhone 12 mini 64GB (grøn)   price: 5.196,-\n",
      "iPhone 12 mini 64GB (hvid)   price: 5.196,-\n",
      "iPhone 12 mini 64GB (lilla)   price: 5.196,-\n",
      "iPhone 12 mini 64GB (sort)   price: 5.196,-\n",
      "iPhone 13 128GB (PRODUCT)RED   price: 7.055,-\n",
      "iPhone 13 128GB (grøn)   price: 7.055,-\n",
      "iPhone 13 128GB (midnight)   price: 7.055,-\n",
      "iPhone 13 128GB (pink)   price: 7.055,-\n",
      "iPhone 13 128GB (starlight)   price: 7.055,-\n",
      "iPhone 13 128GB Blue   price: 7.055,-\n",
      "iPhone 13 256GB (PRODUCT)RED   price: 7.955,-\n",
      "iPhone 13 256GB (blue)   price: 7.955,-\n",
      "iPhone 13 256GB (grøn)   price: 7.955,-\n",
      "iPhone 13 256GB (midnight)   price: 7.955,-\n",
      "iPhone 13 256GB (pink)   price: 7.955,-\n",
      "iPhone 13 256GB (starlight)   price: 7.955,-\n",
      "iPhone 13 512GB (PRODUCT)RED   price: 8.989,-\n",
      "iPhone 13 512GB (grøn)   price: 9.755,-\n",
      "iPhone 13 512GB (midnight)   price: 8.989,-\n",
      "iPhone 13 512GB (starlight)   price: 8.989,-\n",
      "iPhone 13 512GB Blue   price: 8.989,-\n",
      "iPhone 13 512GB Pink   price: 8.989,-\n",
      "iPhone 13 Pro 128GB (gold)   price: 9.055,-\n",
      "iPhone 13 Pro 128GB (grangrøn)   price: 9.055,-\n",
      "iPhone 13 Pro 128GB (graphite)   price: 9.055,-\n",
      "iPhone 13 Pro 128GB (sierra blue)   price: 9.055,-\n",
      "iPhone 13 Pro 128GB (silver)   price: 9.055,-\n",
      "iPhone 13 Pro 1TB (gold)   price: 13.499,-\n",
      "iPhone 13 Pro 1TB (grangrøn)   price: 13.555,-\n",
      "iPhone 13 Pro 1TB (graphite)   price: 13.499,-\n",
      "iPhone 13 Pro 1TB (sierra blue)   price: 13.499,-\n",
      "iPhone 13 Pro 1TB (silver)   price: 13.499,-\n",
      "iPhone 13 Pro 256GB (gold)   price: 9.955,-\n",
      "iPhone 13 Pro 256GB (grangrøn)   price: 9.955,-\n",
      "iPhone 13 Pro 256GB (graphite)   price: 9.955,-\n",
      "iPhone 13 Pro 256GB (sierra blue)   price: 9.955,-\n",
      "iPhone 13 Pro 256GB (silver)   price: 9.955,-\n",
      "iPhone 13 Pro 512GB (gold)   price: 11.689,-\n",
      "iPhone 13 Pro 512GB (grangrøn)   price: 11.755,-\n",
      "iPhone 13 Pro 512GB (graphite)   price: 11.689,-\n",
      "iPhone 13 Pro 512GB (sierra blue)   price: 11.689,-\n",
      "iPhone 13 Pro 512GB (silver)   price: 11.689,-\n",
      "iPhone 13 Pro Max 128GB (grangrøn)   price: 9.755,-\n",
      "iPhone 13 Pro Max 1TB (grangrøn)   price: 14.255,-\n",
      "iPhone 13 Pro Max 256GB (grangrøn)   price: 10.655,-\n",
      "iPhone 13 Pro Max 512GB (grangrøn)   price: 12.455,-\n",
      "iPhone 13 mini 128GB (PRODUCT)RED   price: 6.198,-\n",
      "iPhone 13 mini 128GB (blue)   price: 5.999,-\n",
      "iPhone 13 mini 128GB (grøn)   price: 6.255,-\n",
      "iPhone 13 mini 128GB (midnight)   price: 6.198,-\n",
      "iPhone 13 mini 128GB (pink)   price: 6.198,-\n",
      "iPhone 13 mini 128GB (starlight)   price: 6.198,-\n",
      "iPhone 13 mini 256GB (PRODUCT)RED   price: 7.099,-\n",
      "iPhone 13 mini 256GB (blue)   price: 7.099,-\n",
      "iPhone 13 mini 256GB (grøn)   price: 7.155,-\n",
      "iPhone 13 mini 256GB (midnight)   price: 7.099,-\n",
      "iPhone 13 mini 256GB (pink)   price: 7.099,-\n",
      "iPhone 13 mini 256GB (starlight)   price: 7.099,-\n",
      "iPhone 13 mini 512GB (PRODUCT)RED   price: 8.889,-\n",
      "iPhone 13 mini 512GB (blue)   price: 8.889,-\n",
      "iPhone 13 mini 512GB (grøn)   price: 8.955,-\n",
      "iPhone 13 mini 512GB (pink)   price: 8.889,-\n",
      "iPhone 13 mini 512GB Midnight   price: 8.889,-\n",
      "iPhone 13 mini 512GB Starlight   price: 8.889,-\n",
      "iPhone 13 Pro Max 128GB (graphite)   price: 9.699,-\n",
      "iPhone 13 Pro Max 128GB (silver)   price: 9.699,-\n",
      "iPhone 13 Pro Max 256GB (graphite)   price: 10.599,-\n",
      "iPhone 13 Pro Max 512GB (graphite)   price: 12.399,-\n",
      "iPhone 13 Pro Max 512GB (sierra blue)   price: 12.399,-\n",
      "iPhone SE (2022) 128GB (PRODUCT)RED   price: 4.499,-\n",
      "iPhone SE (2022) 128GB (midnat)   price: 4.499,-\n",
      "iPhone SE (2022) 128GB (stjerneskær)   price: 4.499,-\n",
      "iPhone SE (2022) 256GB (PRODUCT)RED   price: 5.399,-\n",
      "iPhone SE (2022) 256GB (midnat)   price: 5.399,-\n",
      "iPhone SE (2022) 256GB (stjerneskær)   price: 5.399,-\n",
      "iPhone SE (2022) 64GB (PRODUCT)RED   price: 3.999,-\n",
      "iPhone SE (2022) 64GB (midnat)   price: 3.999,-\n",
      "iPhone SE (2022) 64GB (stjerneskær)   price: 3.999,-\n",
      "iPhone 13 Pro Max 128GB (gold)   price: 9.699,-\n",
      "iPhone 13 Pro Max 128GB (sierra blue)   price: 9.699,-\n",
      "iPhone 13 Pro Max 1TB (gold)   price: 14.199,-\n",
      "iPhone 13 Pro Max 1TB (graphite)   price: 14.199,-\n",
      "iPhone 13 Pro Max 1TB (sierra blue)   price: 14.199,-\n",
      "iPhone 13 Pro Max 1TB (silver)   price: 14.199,-\n",
      "iPhone 13 Pro Max 256GB (gold)   price: 10.599,-\n",
      "iPhone 13 Pro Max 256GB (sierra blue)   price: 10.599,-\n",
      "iPhone 13 Pro Max 256GB (silver)   price: 10.599,-\n",
      "iPhone 13 Pro Max 512GB (silver)   price: 12.399,-\n",
      "iPhone 13 Pro Max 512GB Gold   price: 12.399,-\n"
     ]
    }
   ],
   "source": [
    "#test = [v for k,v in res.items() if 'Galaxy' in k]\n",
    "\n",
    "for i in sorted(res):\n",
    "    print(i,\" \",\"price:\", res[i])"
   ]
  },
  {
   "cell_type": "code",
   "execution_count": 5,
   "metadata": {},
   "outputs": [],
   "source": [
    "# Samsung plot value udregner.\n",
    "\n",
    "samsung_price_list = [v for k,v in res.items() if 'Galaxy' in k]\n",
    "replace_for_samsung = [s.replace(\",-\",\"\") for s in samsung_price_list]\n",
    "samsung_string_to_float = [float(x) for x in replace_for_samsung]\n",
    "samsung_plot_sum = sum(samsung_string_to_float) / len(samsung_price_list) * 1000\n",
    "\n"
   ]
  },
  {
   "cell_type": "code",
   "execution_count": 6,
   "metadata": {},
   "outputs": [
    {
     "name": "stdout",
     "output_type": "stream",
     "text": [
      "7982.96183206107\n"
     ]
    }
   ],
   "source": [
    "# Iphone plot value udregner.\n",
    "\n",
    "iPhone_price_list = [v for k,v in res.items() if 'iPhone' in k]\n",
    "#print(sorted(iPhone_price_list))\n",
    "replace_for_iPhone = [s.replace(\",-\",\"\") for s in iPhone_price_list ]\n",
    "iphone_string_to_float = [float(x) for x in replace_for_iPhone]\n",
    "iPhone_plot_sum = sum(iphone_string_to_float) / len(iPhone_price_list) * 1000\n",
    "print(iPhone_plot_sum)"
   ]
  },
  {
   "cell_type": "code",
   "execution_count": 7,
   "metadata": {
    "scrolled": true
   },
   "outputs": [
    {
     "data": {
      "image/png": "[encoded data removed]",
      "text/plain": [
       "<Figure size 432x288 with 1 Axes>"
      ]
     },
     "metadata": {
      "needs_background": "light"
     },
     "output_type": "display_data"
    }
   ],
   "source": [
    "import matplotlib.pylab as plt\n",
    "\n",
    "\n",
    "x = (\"Samsung\", \"iPhone\")\n",
    "y = (samsung_plot_sum, iPhone_plot_sum )\n",
    "plt.title(\"Komplet\")\n",
    "\n",
    "plt.bar(x, y)\n",
    "plt.show()"
   ]
  },
  {
   "cell_type": "code",
   "execution_count": 17,
   "metadata": {},
   "outputs": [],
   "source": [
    "# Example: goto www.cphbusiness.dk and find all the \"Erhvervsakademiuddannelser\" that are available.\n",
    "# Selenium\n",
    "\n",
    "# from selenium import webdriver\n",
    "# from selenium.webdriver.common.keys import Keys\n",
    "# from selenium.webdriver.firefox.options import Options\n",
    "# from selenium.webdriver.common.by import By\n",
    "# from selenium.webdriver.support.ui import WebDriverWait\n",
    "# from selenium.webdriver.support import expected_conditions as EC\n",
    "\n",
    "# import json\n",
    "\n",
    "# url = 'https://www.telia.dk/privat/webshop/mobiler/?page=4'\n",
    "\n",
    "# profile = webdriver.FirefoxProfile()\n",
    "# profile.set_preference(\"general.useragent.override\", \"Mozilla/5.0 (X11; Ubuntu; Linux x86_64; rv:81.0) Gecko/20100101 Firefox/81.0\")\n",
    "\n",
    "# # headless is needed here because we do not have a GUI version of firefox\n",
    "# #options = Options()\n",
    "# #options.headless = True\n",
    "# #browser = webdriver.Firefox(options=options, executable_path=r'/tmp/geckodriver')\n",
    "\n",
    "\n",
    "# browser = webdriver.Firefox()\n",
    "# browser.get(url)\n",
    "# browser.implicitly_wait(2)\n",
    "# button = browser.find_element_by_id('declineButton')\n",
    "# button.click()\n",
    "\n",
    "# # <div class=\"cm-c-product-card-simple__right\">\n",
    "# #<p class=\"cm-c-product-card-simple__title\">GALAXY S21 FE 5G</p>\n",
    "# #<p class=\"cm-c-product-card-simple__brand\">SAMSUNG</p>\n",
    "# #<div class=\"cm-c-product-card-simple__desc\"><p>Mindstepris 4.650,50 kr. med ONE abn.</p> <!----></div>\n",
    "\n",
    "# #telia_product_cards = browser.find_elements_by_css_selector('div.cm-c-product-card-simple__right')\n",
    "# telia_product_brand = browser.find_elements_by_css_selector('p.cm-c-product-card-simple__brand')\n",
    "# telia_product_title = browser.find_elements_by_css_selector('p.cm-c-product-card-simple__title')\n",
    "# telia_product_price = browser.find_elements_by_css_selector('div.cm-c-product-card-simple__desc')\n",
    "\n",
    "# all_brand = [b.text for b in telia_product_brand]\n",
    "# all_title = [b.text for b in telia_product_title]\n",
    "# all_price = [b.text for b in telia_product_price]\n",
    "\n",
    "# procucts_brand_title = []\n",
    "\n",
    "# for b, t, p in zip(all_brand, all_title, all_price ):\n",
    "#     procucts_brand_title.append((b, t, p))\n",
    "    \n",
    "# with open('telia.json', 'w') as f:\n",
    "#     json.dump(procucts_brand_title, f)"
   ]
  },
  {
   "cell_type": "code",
   "execution_count": 18,
   "metadata": {},
   "outputs": [
    {
     "name": "stdout",
     "output_type": "stream",
     "text": [
      "('APPLE', 'IPHONE 11', 'Mindstepris 5.251,50 kr. med ONE. abn.')\n",
      "('APPLE', 'IPHONE 12', 'Mindstepris 6.331,50 kr. med ONE. abn.')\n",
      "('APPLE', 'IPHONE 12 MINI', 'Mindstepris 5.611,50 kr. med ONE. abn.')\n",
      "('APPLE', 'IPHONE 12 PRO MAX', 'Mindstepris 10.291,50 kr. med ONE. abn.')\n",
      "('APPLE', 'IPHONE 13', 'Mindstepris 7.051,50 kr. med ONE. abn.')\n",
      "('APPLE', 'IPHONE 13 MINI', 'Mindstepris 6.331,50 kr. med ONE. abn.')\n",
      "('APPLE', 'IPHONE 13 PRO', 'Mindstepris 8.671,50 kr. med ONE. abn.')\n",
      "('APPLE', 'IPHONE 13 PRO MAX', 'Mindstepris 9.931,50 kr. med ONE. abn.')\n",
      "('APPLE', 'IPHONE SE 2022', 'Mindstepris 4.711,50 kr. med ONE. abn.')\n",
      "('MOTOROLA', 'EDGE 20', 'Mindstepris 4.495,50 kr. med ONE. abn.')\n",
      "('MOTOROLA', 'EDGE 30 PRO', 'Mindstepris 6.511,50 kr. med ONE. abn.')\n",
      "('MOTOROLA', 'MOTO E40', 'Mindstepris 2.150,50 kr. med ONE. abn.')\n",
      "('MOTOROLA', 'MOTO G100', 'Mindstepris 3.451,50 kr. med SMART40 abn.')\n",
      "('MYKI', 'WATCH 4 LITE', 'Mindstepris 830,50 kr. med Little One abn.')\n",
      "('NOKIA', '2720 SENIOR', 'Mindstepris 1.610,50 kr. med SMART40 abn.')\n",
      "('NOKIA', '5.4', 'Mindstepris 2.551,50 kr. med SMART40 abn.')\n",
      "('NOKIA', '800 TOUGH', 'Mindstepris 1.510,50 kr. med SMART40 abn.')\n",
      "('NOKIA', 'X20', 'Mindstepris 3.991,50 kr. med ONE. abn.')\n",
      "('NOKIA', 'XR20', 'Mindstepris 4.675,50 kr. med SMART40 abn.')\n",
      "('ONEPLUS', '10 PRO 5G', 'Mindstepris 8.455,50 kr. med ONE. abn.')\n",
      "('ONEPLUS', '9 PRO (8GB RAM)', 'Mindstepris 6.151,50 kr. med ONE. abn.')\n",
      "('ONEPLUS', 'NORD 2 5G', 'Mindstepris 3.991,50 kr. med SMART40 abn.')\n",
      "('ONEPLUS', 'NORD CE 2 5G', 'Mindstepris 2.950,50 kr. med ONE. abn.')\n",
      "('SAMSUNG', 'GALAXY A32 5G', 'Mindstepris 2.731,50 kr. med SMART40 abn.')\n",
      "('SAMSUNG', 'GALAXY A52S 5G', 'Mindstepris 2.950,50 kr. med ONE. abn.')\n",
      "('SAMSUNG', 'GALAXY A53 5G', 'Mindstepris 4.135,50 kr. med ONE. abn.')\n",
      "('SAMSUNG', 'GALAXY S20 FE', 'Mindstepris 5.215,50 kr. med ONE. abn.')\n",
      "('SAMSUNG', 'GALAXY S20 FE 5G', 'Mindstepris 5.935,50 kr. med ONE. abn.')\n",
      "('SAMSUNG', 'GALAXY S21 5G', 'Mindstepris 4.351,50 kr. med ONE. abn.')\n",
      "('SAMSUNG', 'GALAXY S21 FE 5G', 'Mindstepris 6.295,50 kr. med ONE. abn.')\n",
      "('SAMSUNG', 'GALAXY S21 PLUS 5G', 'Mindstepris 5.791,50 kr. med ONE. abn.')\n",
      "('SAMSUNG', 'GALAXY S22 5G', 'Mindstepris 7.015,50 kr. med ONE. abn.')\n",
      "('SAMSUNG', 'GALAXY S22 ULTRA 5G', 'Mindstepris 9.895,50 kr. med ONE. abn.')\n",
      "('SAMSUNG', 'GALAXY S22 ULTRA 5G (12GB RAM)', 'Mindstepris 10.615,50 kr. med ONE. abn.')\n",
      "('SAMSUNG', 'GALAXY S22+ 5G', 'Mindstepris 8.455,50 kr. med ONE. abn.')\n",
      "('SAMSUNG', 'GALAXY Z FLIP3 5G', 'Mindstepris 5.647,50 kr. med ONE. abn.')\n",
      "('SAMSUNG', 'GALAXY Z FOLD3 5G', 'Mindstepris 13.855,50 kr. med ONE. abn.')\n",
      "('SONY', 'XPERIA 1 III', 'Mindstepris 7.735,50 kr. med ONE. abn.')\n",
      "('SONY', 'XPERIA 10 III', 'Mindstepris 3.650,50 kr. med ONE. abn.')\n",
      "('SONY', 'XPERIA 5 III', 'Mindstepris 6.295,50 kr. med ONE. abn.')\n",
      "('SONY', 'XPERIA PRO-I', 'Mindstepris 11.650,50 kr. med ONE. abn.')\n",
      "('XIAOMI', '12', 'Mindstepris 6.151,50 kr. med ONE. abn.')\n",
      "('XIAOMI', '12 PRO', 'Mindstepris 7.591,50 kr. med ONE. abn.')\n",
      "('XIAOMI', 'REDMI NOTE 11 PRO 5G', 'Mindstepris 3.650,50 kr. med ONE. abn.')\n"
     ]
    }
   ],
   "source": [
    "with open('telia.json') as f:\n",
    "    all_products = [tuple(x) for x in json.load(f)]\n",
    "    all_products.sort()\n",
    "    for item in all_products:\n",
    "        print(item)"
   ]
  },
  {
   "cell_type": "code",
   "execution_count": 19,
   "metadata": {},
   "outputs": [
    {
     "name": "stdout",
     "output_type": "stream",
     "text": [
      "[5251.5, 6331.5, 5611.5, 10291.5, 7051.5, 6331.5, 8671.5, 9931.5, 4711.5, 4495.5, 6511.5, 2150.5, 3451.5, 830.5, 1610.5, 2551.5, 1510.5, 3991.5, 4675.5, 8455.5, 6151.5, 3991.5, 2950.5, 2731.5, 2950.5, 4135.5, 5215.5, 5935.5, 4351.5, 6295.5, 5791.5, 7015.5, 9895.5, 10615.5, 8455.5, 5647.5, 13855.5, 7735.5, 3650.5, 6295.5, 11650.5, 6151.5, 7591.5, 3650.5]\n",
      "['APPLE IPHONE 11', 'APPLE IPHONE 12', 'APPLE IPHONE 12 MINI', 'APPLE IPHONE 12 PRO MAX', 'APPLE IPHONE 13', 'APPLE IPHONE 13 MINI', 'APPLE IPHONE 13 PRO', 'APPLE IPHONE 13 PRO MAX', 'APPLE IPHONE SE 2022', 'MOTOROLA EDGE 20', 'MOTOROLA EDGE 30 PRO', 'MOTOROLA MOTO E40', 'MOTOROLA MOTO G100', 'MYKI WATCH 4 LITE', 'NOKIA 2720 SENIOR', 'NOKIA 5.4', 'NOKIA 800 TOUGH', 'NOKIA X20', 'NOKIA XR20', 'ONEPLUS 10 PRO 5G', 'ONEPLUS 9 PRO (8GB RAM)', 'ONEPLUS NORD 2 5G', 'ONEPLUS NORD CE 2 5G', 'SAMSUNG GALAXY A32 5G', 'SAMSUNG GALAXY A52S 5G', 'SAMSUNG GALAXY A53 5G', 'SAMSUNG GALAXY S20 FE', 'SAMSUNG GALAXY S20 FE 5G', 'SAMSUNG GALAXY S21 5G', 'SAMSUNG GALAXY S21 FE 5G', 'SAMSUNG GALAXY S21 PLUS 5G', 'SAMSUNG GALAXY S22 5G', 'SAMSUNG GALAXY S22 ULTRA 5G', 'SAMSUNG GALAXY S22 ULTRA 5G (12GB RAM)', 'SAMSUNG GALAXY S22+ 5G', 'SAMSUNG GALAXY Z FLIP3 5G', 'SAMSUNG GALAXY Z FOLD3 5G', 'SONY XPERIA 1 III', 'SONY XPERIA 10 III', 'SONY XPERIA 5 III', 'SONY XPERIA PRO-I', 'XIAOMI 12', 'XIAOMI 12 PRO', 'XIAOMI REDMI NOTE 11 PRO 5G']\n"
     ]
    }
   ],
   "source": [
    "import re\n",
    "prr=[]\n",
    "for item in all_products:\n",
    "    price = re.findall(r\"[-+]?(?:\\d*.\\d+,\\d+)\", item[0:][2])\n",
    "    price = ''.join(str(e) for e in price)\n",
    "    price = re.sub('[.]', '', price)\n",
    "    price = re.sub('[,]', '.', price)\n",
    "    prr.append(float(price))\n",
    "print(prr)\n",
    "\n",
    "phone_name=[]\n",
    "for item in all_products:\n",
    "    phone_name.append(str(item[0]+' '+item[1] ))\n",
    "print(phone_name)\n"
   ]
  },
  {
   "cell_type": "code",
   "execution_count": 25,
   "metadata": {},
   "outputs": [
    {
     "name": "stdout",
     "output_type": "stream",
     "text": [
      "{'APPLE IPHONE 11': 5251.5, 'APPLE IPHONE 12': 6331.5, 'APPLE IPHONE 12 MINI': 5611.5, 'APPLE IPHONE 12 PRO MAX': 10291.5, 'APPLE IPHONE 13': 7051.5, 'APPLE IPHONE 13 MINI': 6331.5, 'APPLE IPHONE 13 PRO': 8671.5, 'APPLE IPHONE 13 PRO MAX': 9931.5, 'APPLE IPHONE SE 2022': 4711.5, 'MOTOROLA EDGE 20': 4495.5, 'MOTOROLA EDGE 30 PRO': 6511.5, 'MOTOROLA MOTO E40': 2150.5, 'MOTOROLA MOTO G100': 3451.5, 'MYKI WATCH 4 LITE': 830.5, 'NOKIA 2720 SENIOR': 1610.5, 'NOKIA 5.4': 2551.5, 'NOKIA 800 TOUGH': 1510.5, 'NOKIA X20': 3991.5, 'NOKIA XR20': 4675.5, 'ONEPLUS 10 PRO 5G': 8455.5, 'ONEPLUS 9 PRO (8GB RAM)': 6151.5, 'ONEPLUS NORD 2 5G': 3991.5, 'ONEPLUS NORD CE 2 5G': 2950.5, 'SAMSUNG GALAXY A32 5G': 2731.5, 'SAMSUNG GALAXY A52S 5G': 2950.5, 'SAMSUNG GALAXY A53 5G': 4135.5, 'SAMSUNG GALAXY S20 FE': 5215.5, 'SAMSUNG GALAXY S20 FE 5G': 5935.5, 'SAMSUNG GALAXY S21 5G': 4351.5, 'SAMSUNG GALAXY S21 FE 5G': 6295.5, 'SAMSUNG GALAXY S21 PLUS 5G': 5791.5, 'SAMSUNG GALAXY S22 5G': 7015.5, 'SAMSUNG GALAXY S22 ULTRA 5G': 9895.5, 'SAMSUNG GALAXY S22 ULTRA 5G (12GB RAM)': 10615.5, 'SAMSUNG GALAXY S22+ 5G': 8455.5, 'SAMSUNG GALAXY Z FLIP3 5G': 5647.5, 'SAMSUNG GALAXY Z FOLD3 5G': 13855.5, 'SONY XPERIA 1 III': 7735.5, 'SONY XPERIA 10 III': 3650.5, 'SONY XPERIA 5 III': 6295.5, 'SONY XPERIA PRO-I': 11650.5, 'XIAOMI 12': 6151.5, 'XIAOMI 12 PRO': 7591.5, 'XIAOMI REDMI NOTE 11 PRO 5G': 3650.5}\n",
      "this is the first kvp form the dict ('Samsung Galaxy A52s 5G 128GB (violet)', '3.399,-')\n"
     ]
    }
   ],
   "source": [
    "telia_res = {phone_name[i]: prr[i] for i in range(len(phone_name))}\n",
    "print(str(telia_res))\n",
    "\n",
    "find_kv = list(res.items())[9]\n",
    "print(\"this is the first kvp form the dict\", find_kv)"
   ]
  },
  {
   "cell_type": "code",
   "execution_count": 26,
   "metadata": {},
   "outputs": [
    {
     "name": "stdout",
     "output_type": "stream",
     "text": [
      "APPLE IPHONE 11   price: 5251.5\n",
      "APPLE IPHONE 12   price: 6331.5\n",
      "APPLE IPHONE 12 MINI   price: 5611.5\n",
      "APPLE IPHONE 12 PRO MAX   price: 10291.5\n",
      "APPLE IPHONE 13   price: 7051.5\n",
      "APPLE IPHONE 13 MINI   price: 6331.5\n",
      "APPLE IPHONE 13 PRO   price: 8671.5\n",
      "APPLE IPHONE 13 PRO MAX   price: 9931.5\n",
      "APPLE IPHONE SE 2022   price: 4711.5\n",
      "MOTOROLA EDGE 20   price: 4495.5\n",
      "MOTOROLA EDGE 30 PRO   price: 6511.5\n",
      "MOTOROLA MOTO E40   price: 2150.5\n",
      "MOTOROLA MOTO G100   price: 3451.5\n",
      "MYKI WATCH 4 LITE   price: 830.5\n",
      "NOKIA 2720 SENIOR   price: 1610.5\n",
      "NOKIA 5.4   price: 2551.5\n",
      "NOKIA 800 TOUGH   price: 1510.5\n",
      "NOKIA X20   price: 3991.5\n",
      "NOKIA XR20   price: 4675.5\n",
      "ONEPLUS 10 PRO 5G   price: 8455.5\n",
      "ONEPLUS 9 PRO (8GB RAM)   price: 6151.5\n",
      "ONEPLUS NORD 2 5G   price: 3991.5\n",
      "ONEPLUS NORD CE 2 5G   price: 2950.5\n",
      "SAMSUNG GALAXY A32 5G   price: 2731.5\n",
      "SAMSUNG GALAXY A52S 5G   price: 2950.5\n",
      "SAMSUNG GALAXY A53 5G   price: 4135.5\n",
      "SAMSUNG GALAXY S20 FE   price: 5215.5\n",
      "SAMSUNG GALAXY S20 FE 5G   price: 5935.5\n",
      "SAMSUNG GALAXY S21 5G   price: 4351.5\n",
      "SAMSUNG GALAXY S21 FE 5G   price: 6295.5\n",
      "SAMSUNG GALAXY S21 PLUS 5G   price: 5791.5\n",
      "SAMSUNG GALAXY S22 5G   price: 7015.5\n",
      "SAMSUNG GALAXY S22 ULTRA 5G   price: 9895.5\n",
      "SAMSUNG GALAXY S22 ULTRA 5G (12GB RAM)   price: 10615.5\n",
      "SAMSUNG GALAXY S22+ 5G   price: 8455.5\n",
      "SAMSUNG GALAXY Z FLIP3 5G   price: 5647.5\n",
      "SAMSUNG GALAXY Z FOLD3 5G   price: 13855.5\n",
      "SONY XPERIA 1 III   price: 7735.5\n",
      "SONY XPERIA 10 III   price: 3650.5\n",
      "SONY XPERIA 5 III   price: 6295.5\n",
      "SONY XPERIA PRO-I   price: 11650.5\n",
      "XIAOMI 12   price: 6151.5\n",
      "XIAOMI 12 PRO   price: 7591.5\n",
      "XIAOMI REDMI NOTE 11 PRO 5G   price: 3650.5\n"
     ]
    }
   ],
   "source": [
    "for i in sorted(telia_res):\n",
    "    print(i,\" \",\"price:\", telia_res[i])"
   ]
  },
  {
   "cell_type": "code",
   "execution_count": 27,
   "metadata": {},
   "outputs": [
    {
     "name": "stdout",
     "output_type": "stream",
     "text": [
      "6635.14\n"
     ]
    }
   ],
   "source": [
    "telia_samsung_price_list = [v for k,v in telia_res.items() if 'GALAXY' in k]\n",
    "#print(telia_samsung_price_list)\n",
    "telia_samsung_plot_sum = sum(telia_samsung_price_list) / len(telia_samsung_price_list)\n",
    "t_s_p_s_f = \"{:.2f}\".format(telia_samsung_plot_sum)\n",
    "print(t_s_p_s_f)"
   ]
  },
  {
   "cell_type": "code",
   "execution_count": 28,
   "metadata": {},
   "outputs": [
    {
     "name": "stdout",
     "output_type": "stream",
     "text": [
      "7131.50\n"
     ]
    }
   ],
   "source": [
    "telia_iPhone_price_list = [v for k,v in telia_res.items() if 'IPHONE' in k]\n",
    "#print(telia_iPhone_price_list)\n",
    "telia_iPhone_plot_sum = sum(telia_iPhone_price_list) / len(telia_iPhone_price_list)\n",
    "t_i_p_s_f = \"{:.2f}\".format(telia_iPhone_plot_sum)\n",
    "print(t_i_p_s_f)"
   ]
  },
  {
   "cell_type": "code",
   "execution_count": 29,
   "metadata": {},
   "outputs": [
    {
     "data": {
      "text/plain": [
       "<BarContainer object of 4 artists>"
      ]
     },
     "execution_count": 29,
     "metadata": {},
     "output_type": "execute_result"
    },
    {
     "data": {
      "image/png": "[encoded data removed]",
      "text/plain": [
       "<Figure size 720x576 with 1 Axes>"
      ]
     },
     "metadata": {
      "needs_background": "light"
     },
     "output_type": "display_data"
    }
   ],
   "source": [
    "import matplotlib.pylab as plt\n",
    "\n",
    "# Opret figur\n",
    "fig, ax = plt.subplots(figsize=(10, 8))\n",
    "\n",
    "# List indhold for akse variablerne for x og y\n",
    "x = ['Komplet-samsung', 'Telia-samsung', 'Komplet-iPhone)', 'Telia-iPhone']\n",
    "y = [samsung_plot_sum, telia_samsung_plot_sum, iPhone_plot_sum, telia_iPhone_plot_sum]\n",
    "\n",
    "\n",
    "# Bar plot\n",
    "plt.bar(x, y)"
   ]
  }
 ],
 "metadata": {
  "celltoolbar": "Slideshow",
  "kernelspec": {
   "display_name": "Python 3",
   "language": "python",
   "name": "python3"
  },
  "language_info": {
   "codemirror_mode": {
    "name": "ipython",
    "version": 3
   },
   "file_extension": ".py",
   "mimetype": "text/x-python",
   "name": "python",
   "nbconvert_exporter": "python",
   "pygments_lexer": "ipython3",
   "version": "3.7.6"
  }
 },
 "nbformat": 4,
 "nbformat_minor": 4
}
